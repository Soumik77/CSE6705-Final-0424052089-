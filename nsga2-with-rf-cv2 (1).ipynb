{
 "cells": [
  {
   "cell_type": "code",
   "execution_count": 1,
   "id": "2a381738",
   "metadata": {
    "_cell_guid": "b1076dfc-b9ad-4769-8c92-a6c4dae69d19",
    "_uuid": "8f2839f25d086af736a60e9eeb907d3b93b6e0e5",
    "execution": {
     "iopub.execute_input": "2025-02-13T14:19:57.656525Z",
     "iopub.status.busy": "2025-02-13T14:19:57.656098Z",
     "iopub.status.idle": "2025-02-13T14:19:58.610288Z",
     "shell.execute_reply": "2025-02-13T14:19:58.609041Z"
    },
    "papermill": {
     "duration": 0.964213,
     "end_time": "2025-02-13T14:19:58.612014",
     "exception": false,
     "start_time": "2025-02-13T14:19:57.647801",
     "status": "completed"
    },
    "tags": []
   },
   "outputs": [
    {
     "name": "stdout",
     "output_type": "stream",
     "text": [
      "/kaggle/input/pancancer-8-dataset/genes.csv\n",
      "/kaggle/input/pancancer-8-dataset/8_cancers_merged.csv\n",
      "/kaggle/input/pancancer-8-dataset/Preprocessed_8_cancer_genes.csv\n",
      "/kaggle/input/autoencoder-features/top_0.25_percent_features_cv.csv\n",
      "/kaggle/input/autoencoder-features/top_0.5_percent_features_cv.csv\n",
      "/kaggle/input/autoencoder-features/top_1.0_percent_features_cv.csv\n"
     ]
    }
   ],
   "source": [
    "# This Python 3 environment comes with many helpful analytics libraries installed\n",
    "# It is defined by the kaggle/python Docker image: https://github.com/kaggle/docker-python\n",
    "# For example, here's several helpful packages to load\n",
    "\n",
    "import numpy as np # linear algebra\n",
    "import pandas as pd # data processing, CSV file I/O (e.g. pd.read_csv)\n",
    "\n",
    "# Input data files are available in the read-only \"../input/\" directory\n",
    "# For example, running this (by clicking run or pressing Shift+Enter) will list all files under the input directory\n",
    "\n",
    "import os\n",
    "for dirname, _, filenames in os.walk('/kaggle/input'):\n",
    "    for filename in filenames:\n",
    "        print(os.path.join(dirname, filename))\n",
    "\n",
    "# You can write up to 20GB to the current directory (/kaggle/working/) that gets preserved as output when you create a version using \"Save & Run All\" \n",
    "# You can also write temporary files to /kaggle/temp/, but they won't be saved outside of the current session"
   ]
  },
  {
   "cell_type": "code",
   "execution_count": 2,
   "id": "add1001b",
   "metadata": {
    "execution": {
     "iopub.execute_input": "2025-02-13T14:19:58.625993Z",
     "iopub.status.busy": "2025-02-13T14:19:58.625448Z",
     "iopub.status.idle": "2025-02-13T14:19:58.817862Z",
     "shell.execute_reply": "2025-02-13T14:19:58.816892Z"
    },
    "papermill": {
     "duration": 0.201398,
     "end_time": "2025-02-13T14:19:58.819904",
     "exception": false,
     "start_time": "2025-02-13T14:19:58.618506",
     "status": "completed"
    },
    "tags": []
   },
   "outputs": [],
   "source": [
    "col_1 = list(pd.read_csv('/kaggle/input/autoencoder-features/top_0.25_percent_features_cv.csv').columns)\n",
    "col_2 = list(pd.read_csv('/kaggle/input/autoencoder-features/top_0.5_percent_features_cv.csv').columns)\n",
    "col_3 = list(pd.read_csv('/kaggle/input/autoencoder-features/top_1.0_percent_features_cv.csv').columns)"
   ]
  },
  {
   "cell_type": "code",
   "execution_count": 3,
   "id": "3fdc6065",
   "metadata": {
    "execution": {
     "iopub.execute_input": "2025-02-13T14:19:58.833808Z",
     "iopub.status.busy": "2025-02-13T14:19:58.833389Z",
     "iopub.status.idle": "2025-02-13T14:21:29.293518Z",
     "shell.execute_reply": "2025-02-13T14:21:29.292382Z"
    },
    "papermill": {
     "duration": 90.468956,
     "end_time": "2025-02-13T14:21:29.295292",
     "exception": false,
     "start_time": "2025-02-13T14:19:58.826336",
     "status": "completed"
    },
    "tags": []
   },
   "outputs": [
    {
     "name": "stdout",
     "output_type": "stream",
     "text": [
      "Index([1226, 1741, 1917, 2069, 2494, 3084, 3637], dtype='int64')\n"
     ]
    }
   ],
   "source": [
    "df = pd.read_csv('/kaggle/input/pancancer-8-dataset/Preprocessed_8_cancer_genes.csv')\n",
    "df = df.iloc[:, 1:]\n",
    "temp = df.iloc[:, :-1]\n",
    "null_rows = temp[temp.isna().all(axis=1)].index\n",
    "print(null_rows)\n",
    "df.drop(index=[1226, 1741, 1917, 2069, 2494, 3084, 3637], inplace=True)\n",
    "X = df.iloc[:,:-1]\n",
    "Y = df.iloc[:,-1]"
   ]
  },
  {
   "cell_type": "code",
   "execution_count": 4,
   "id": "f4afbdc7",
   "metadata": {
    "execution": {
     "iopub.execute_input": "2025-02-13T14:21:29.309398Z",
     "iopub.status.busy": "2025-02-13T14:21:29.309025Z",
     "iopub.status.idle": "2025-02-13T14:21:29.313147Z",
     "shell.execute_reply": "2025-02-13T14:21:29.312108Z"
    },
    "papermill": {
     "duration": 0.013146,
     "end_time": "2025-02-13T14:21:29.314989",
     "exception": false,
     "start_time": "2025-02-13T14:21:29.301843",
     "status": "completed"
    },
    "tags": []
   },
   "outputs": [],
   "source": [
    "X_actual = X"
   ]
  },
  {
   "cell_type": "code",
   "execution_count": 5,
   "id": "95ce9785",
   "metadata": {
    "execution": {
     "iopub.execute_input": "2025-02-13T14:21:29.329285Z",
     "iopub.status.busy": "2025-02-13T14:21:29.328951Z",
     "iopub.status.idle": "2025-02-13T15:13:34.289741Z",
     "shell.execute_reply": "2025-02-13T15:13:34.288612Z"
    },
    "papermill": {
     "duration": 3124.983269,
     "end_time": "2025-02-13T15:13:34.304917",
     "exception": false,
     "start_time": "2025-02-13T14:21:29.321648",
     "status": "completed"
    },
    "tags": []
   },
   "outputs": [
    {
     "name": "stdout",
     "output_type": "stream",
     "text": [
      "gen\tnevals\n",
      "0  \t50    \n",
      "1  \t32    \n",
      "2  \t43    \n",
      "3  \t41    \n",
      "4  \t31    \n",
      "5  \t37    \n",
      "6  \t30    \n",
      "7  \t38    \n",
      "8  \t41    \n",
      "9  \t32    \n",
      "10 \t35    \n",
      "11 \t34    \n",
      "12 \t42    \n",
      "13 \t40    \n",
      "14 \t40    \n",
      "15 \t37    \n",
      "16 \t46    \n",
      "17 \t45    \n",
      "18 \t42    \n",
      "19 \t40    \n",
      "20 \t37    \n",
      "Pareto Front:\n",
      "Accuracy: 0.936950783849603, Feature Count: 35.0\n",
      "Accuracy: 0.927201002626811, Feature Count: 32.0\n",
      "Accuracy: 0.9342085535022538, Feature Count: 34.0\n",
      "Accuracy: 0.9387781951678257, Feature Count: 41.0\n",
      "Accuracy: 0.9028350854066138, Feature Count: 30.0\n",
      "feature set: 1\n",
      "Selected gene names: ['AL627309.5', 'MTATP8P1', 'WASH7P', 'MTATP6P1', 'AL732372.3', 'MIR6859-2', 'AL669831.6', 'OR4F29', 'LINC02593', 'AL645608.2', 'AL627309.2', 'AL669831.3', 'MTCO3P12', 'ISG15', 'CICP7', 'MTND2P28', 'AL645608.6', 'AL669831.1', 'OR4F5', 'U6', 'WBP1LP6', 'AGRN', 'AL645608.1', 'CICP27', 'FAM41C', 'KLHL17', 'WASH9P', 'RNU6-1100P', 'SAMD11', 'AL390719.1', 'LINC01409', 'AL669831.4', 'AL627309.3', 'AL627309.4', 'AC114498.2']\n",
      "Selected gene names saved to NSGA2_77_compression_1.csv\n"
     ]
    },
    {
     "name": "stderr",
     "output_type": "stream",
     "text": [
      "/usr/local/lib/python3.10/dist-packages/deap/creator.py:185: RuntimeWarning: A class named 'FitnessMulti' has already been created and it will be overwritten. Consider deleting previous creation of that class or rename it.\n",
      "  warnings.warn(\"A class named '{0}' has already been created and it \"\n",
      "/usr/local/lib/python3.10/dist-packages/deap/creator.py:185: RuntimeWarning: A class named 'Individual' has already been created and it will be overwritten. Consider deleting previous creation of that class or rename it.\n",
      "  warnings.warn(\"A class named '{0}' has already been created and it \"\n"
     ]
    },
    {
     "name": "stdout",
     "output_type": "stream",
     "text": [
      "gen\tnevals\n",
      "0  \t50    \n",
      "1  \t36    \n",
      "2  \t39    \n",
      "3  \t38    \n",
      "4  \t37    \n",
      "5  \t43    \n",
      "6  \t38    \n",
      "7  \t37    \n",
      "8  \t40    \n",
      "9  \t39    \n",
      "10 \t41    \n",
      "11 \t46    \n",
      "12 \t32    \n",
      "13 \t39    \n",
      "14 \t41    \n",
      "15 \t40    \n",
      "16 \t39    \n",
      "17 \t32    \n",
      "18 \t45    \n",
      "19 \t40    \n",
      "20 \t40    \n",
      "Pareto Front:\n",
      "Accuracy: 0.9543110058110492, Feature Count: 71.0\n",
      "Accuracy: 0.9421272121734393, Feature Count: 56.0\n",
      "Accuracy: 0.9533980423986147, Feature Count: 66.0\n",
      "Accuracy: 0.9470021027848353, Feature Count: 60.0\n",
      "feature set: 2\n",
      "Selected gene names: ['SAMD11', 'SSU72', 'CDK11B', 'MRPL20-DT', 'AL627309.3', 'AL645608.7', 'RN7SL657P', 'KLHL17', 'RNF223', 'AL669831.1', 'CICP7', 'AL645608.6', 'TNFRSF4', 'CFAP74', 'FO538757.1', 'CICP3', 'LINC01342', 'MIR6727', 'MIR1302-2', 'AL627309.2', 'MXRA8', 'OR4F29', 'OR4F5', 'VWA1', 'MTND1P23', 'AL645608.3', 'FAAP20', 'NADK', 'NOC2L', 'TTLL10-AS1', 'MMP23A', 'MIR6726', 'DDX11L1', 'LINC01770', 'DVL1', 'CDK11A', 'AL513477.1', 'AL669831.5', 'WBP1LP6', 'AL669831.3', 'FO704657.1', 'WASH7P', 'UBE2J2', 'MIR6808', 'HES4', 'AL590822.2', 'LINC02593', 'CPTP', 'SDF4', 'AL627309.5', 'AL732372.3', 'PUSL1', 'FAM41C', 'AL691432.1', 'INTS11', 'AL645608.2', 'AL732372.2', 'AC114498.2', 'AL669831.7', 'AL645608.8', 'CCNL2', 'AURKAIP1', 'CALML6', 'FNDC10', 'AL031282.2', 'U6', 'RNU6-1199P', 'ATAD3C', 'AL139287.1', 'AL669831.6', 'GNB1']\n",
      "Selected gene names saved to NSGA2_154_compression_2.csv\n"
     ]
    },
    {
     "name": "stderr",
     "output_type": "stream",
     "text": [
      "/usr/local/lib/python3.10/dist-packages/deap/creator.py:185: RuntimeWarning: A class named 'FitnessMulti' has already been created and it will be overwritten. Consider deleting previous creation of that class or rename it.\n",
      "  warnings.warn(\"A class named '{0}' has already been created and it \"\n",
      "/usr/local/lib/python3.10/dist-packages/deap/creator.py:185: RuntimeWarning: A class named 'Individual' has already been created and it will be overwritten. Consider deleting previous creation of that class or rename it.\n",
      "  warnings.warn(\"A class named '{0}' has already been created and it \"\n"
     ]
    },
    {
     "name": "stdout",
     "output_type": "stream",
     "text": [
      "gen\tnevals\n",
      "0  \t50    \n",
      "1  \t47    \n",
      "2  \t38    \n",
      "3  \t38    \n",
      "4  \t35    \n",
      "5  \t31    \n",
      "6  \t39    \n",
      "7  \t42    \n",
      "8  \t41    \n",
      "9  \t37    \n",
      "10 \t38    \n",
      "11 \t30    \n",
      "12 \t38    \n",
      "13 \t41    \n",
      "14 \t32    \n",
      "15 \t41    \n",
      "16 \t43    \n",
      "17 \t37    \n",
      "18 \t38    \n",
      "19 \t41    \n",
      "20 \t37    \n",
      "Pareto Front:\n",
      "Accuracy: 0.9600988598348799, Feature Count: 140.0\n",
      "Accuracy: 0.9600979320265338, Feature Count: 132.0\n",
      "Accuracy: 0.9530933501377981, Feature Count: 129.0\n",
      "Accuracy: 0.9610120088089835, Feature Count: 163.0\n",
      "Accuracy: 0.9613178144398153, Feature Count: 176.0\n",
      "feature set: 3\n",
      "Selected gene names: ['AL590822.1', 'MIR4251', 'ZBTB48', 'AL645728.2', 'AJAP1', 'AL031848.2', 'TAS1R1', 'AL627309.3', 'AL034417.4', 'AL589702.1', 'AL139415.1', 'DFFB', 'PRDM16-DT', 'AL512330.1', 'TTC34', 'SLC35E2B', 'CAMTA1-AS2', 'AC114498.1', 'SDF4', 'CA6', 'PLCH2', 'Z98747.1', 'Z98259.2', 'AL359881.3', 'CDK11A', 'OR4F5', 'AURKAIP1', 'MEGF6', 'PERM1', 'RNU1-7P', 'LINC01714', 'AL365255.1', 'AL139823.1', 'AL096855.2', 'LINC01786', 'TNFRSF14-AS1', 'LRRC47', 'PLEKHG5', 'MIR4689', 'AL691432.2', 'TPRG1L', 'AL512383.1', 'MIR1302-2', 'LINC00115', 'AL008733.1', 'PEX10', 'RNU6-304P', 'MMP23A', 'OR4G11P', 'AL645608.7', 'Y_RNA.1', 'LINC00337', 'AL645728.1', 'SKI', 'AL590822.3', 'RN7SL451P', 'TTLL10-AS1', 'RN7SL657P', 'GNB1', 'ATAD3B', 'LINC02782', 'TP73-AS1', 'AL691432.1', 'Z98259.3', 'AL031847.1', 'MRPL20-DT', 'RN7SL574P', 'RNU6-731P', 'AL390719.2', 'RPL7P11', 'RPL22', 'RPL23AP24', 'AL034417.3', 'AL669831.6', 'LINC01342', 'AC242022.2', 'KLHL17', 'ACTRT2', 'FAM138A', 'LINC01134', 'VWA1', 'AL732372.3', 'MRPL20', 'MIR429', 'MTND2P28', 'AL034417.2', 'TTLL10', 'AL031282.1', 'LINC01672', 'NOC2L', 'AL139246.4', 'AL645608.3', 'TNFRSF18', 'C1orf159', 'AL669831.2', 'AL513477.1', 'TUBB8P11', 'Z98886.1', 'AL136528.1', 'RER1', 'MTCO2P12', 'THAP3', 'HES4', 'OR4G4P', 'GPR153', 'AL592464.2', 'NADK', 'CICP7', 'FO704657.1', 'AL590128.1', 'Z98884.1', 'AL390719.1', 'ERRFI1', 'ACAP3', 'PHF13', 'MIB2', 'CEP104', 'AL592464.3', 'AL139246.5', 'LINC02780', 'AL139246.3', 'MXRA8', 'AL590438.1', 'AL645608.2', 'RERE-AS1', 'SSU72', 'AL627309.1', 'MIR551A', 'CICP27', 'LINC01345', 'MIR6728', 'DDX11L1', 'ANKRD65', 'AL590822.2', 'AL669831.1', 'WASH7P', 'TNFRSF14', 'Y_RNA', 'CCNL2', 'AL359881.1']\n",
      "Selected gene names saved to NSGA2_308_compression_3.csv\n"
     ]
    }
   ],
   "source": [
    "import numpy as np\n",
    "import pandas as pd\n",
    "from deap import base, creator, tools, algorithms\n",
    "from sklearn.model_selection import train_test_split\n",
    "from sklearn.ensemble import RandomForestClassifier\n",
    "from sklearn.metrics import accuracy_score\n",
    "from sklearn.model_selection import cross_val_score\n",
    "import csv\n",
    "\n",
    "# Encode the target variable (if it's categorical)\n",
    "y = pd.factorize(Y)[0]\n",
    "i = 1\n",
    "\n",
    "for col in [col_1, col_2, col_3]:\n",
    "        \n",
    "    X = X_actual[col]\n",
    "    \n",
    "    # Split data into train and test\n",
    "    X_train, X_test, y_train, y_test = train_test_split(X, y, test_size=0.2, random_state=42)\n",
    "    \n",
    "    # Genetic Algorithm setup with two objectives: accuracy and feature count\n",
    "    creator.create(\"FitnessMulti\", base.Fitness, weights=(1.0, -1.0))  # Maximize accuracy, minimize feature count\n",
    "    creator.create(\"Individual\", list, fitness=creator.FitnessMulti)\n",
    "    \n",
    "    toolbox = base.Toolbox()\n",
    "    toolbox.register(\"attr_bool\", np.random.randint, 0, 2)\n",
    "    toolbox.register(\"individual\", tools.initRepeat, creator.Individual, toolbox.attr_bool, n=len(X.columns))\n",
    "    toolbox.register(\"population\", tools.initRepeat, list, toolbox.individual)\n",
    "    \n",
    "    # Fitness function using Random Forest\n",
    "    def evaluate_rf(individual, X_train, y_train):\n",
    "        # Select the features that are '1' in the individual\n",
    "        selected_features = [index for index, value in enumerate(individual) if value == 1]\n",
    "        \n",
    "        if len(selected_features) == 0:\n",
    "            return -np.inf,  # No features selected, so return a very low fitness score\n",
    "        \n",
    "        X_train_selected = X_train.iloc[:, selected_features]\n",
    "        \n",
    "        # Random Forest classifier with cross-validation to evaluate model performance\n",
    "        rf = RandomForestClassifier(random_state=42, n_jobs=-1)\n",
    "        scores = cross_val_score(rf, X_train_selected, y_train, cv=2, scoring='accuracy')\n",
    "    \n",
    "        accuracy = np.mean(scores) \n",
    "        \n",
    "        # Return the accuracy and the feature count\n",
    "        return accuracy, len(selected_features)\n",
    "    \n",
    "    # GA Operators\n",
    "    toolbox.register(\"mate\", tools.cxTwoPoint)\n",
    "    toolbox.register(\"mutate\", tools.mutFlipBit, indpb=0.05)\n",
    "    toolbox.register(\"select\", tools.selNSGA2)  # Pareto dominance selection\n",
    "    toolbox.register(\"evaluate\", evaluate_rf, X_train=X_train, y_train=y_train)\n",
    "\n",
    "    # Determine population size based on feature count\n",
    "    popsize = 50\n",
    "    \n",
    "    # Algorithm: Genetic Algorithm for Feature Selection\n",
    "    population = toolbox.population(n=popsize)\n",
    "    algorithms.eaSimple(population, toolbox, cxpb=0.7, mutpb=0.2, ngen=20, verbose=True)\n",
    "    \n",
    "    # Get the Pareto front (best solutions in the population)\n",
    "    pareto_front = tools.sortNondominated(population, len(population), first_front_only=True)[0]\n",
    "    \n",
    "    # Display the Pareto front\n",
    "    print(\"Pareto Front:\")\n",
    "    for ind in pareto_front:\n",
    "        print(f\"Accuracy: {ind.fitness.values[0]}, Feature Count: {ind.fitness.values[1]}\")\n",
    "        selected_features = [index for index, value in enumerate(ind) if value == 1]\n",
    "        #print(\"Selected features:\", X.columns[selected_features])\n",
    "    \n",
    "    # Choose the best individual based on your trade-off between accuracy and feature count\n",
    "    best_individual = pareto_front[0]  # Choose the one that gives the best balance between accuracy and complexity\n",
    "    selected_features = [index for index, value in enumerate(best_individual) if value == 1]\n",
    "    print(\"feature set: {}\".format(i))\n",
    "    selected_gene_names = X.columns[selected_features].tolist()\n",
    "    print(\"Selected gene names:\", selected_gene_names)\n",
    "\n",
    "    # Define the filename\n",
    "    file_name = f\"NSGA2_{len(X.columns)}_compression_{i}.csv\"\n",
    "    \n",
    "    # Save the selected gene names to a CSV file\n",
    "    with open(file_name, mode='w', newline='') as file:\n",
    "        writer = csv.writer(file)\n",
    "        writer.writerow([\"Gene Name\"])  # Header row\n",
    "        for gene_name in selected_gene_names:\n",
    "            writer.writerow([gene_name])\n",
    "    \n",
    "    print(f\"Selected gene names saved to {file_name}\")\n",
    "\n",
    "\n",
    "    i += 1"
   ]
  },
  {
   "cell_type": "code",
   "execution_count": null,
   "id": "76b82842",
   "metadata": {
    "papermill": {
     "duration": 0.009454,
     "end_time": "2025-02-13T15:13:34.328269",
     "exception": false,
     "start_time": "2025-02-13T15:13:34.318815",
     "status": "completed"
    },
    "tags": []
   },
   "outputs": [],
   "source": []
  },
  {
   "cell_type": "code",
   "execution_count": null,
   "id": "2c379205",
   "metadata": {
    "papermill": {
     "duration": 0.00935,
     "end_time": "2025-02-13T15:13:34.347565",
     "exception": false,
     "start_time": "2025-02-13T15:13:34.338215",
     "status": "completed"
    },
    "tags": []
   },
   "outputs": [],
   "source": []
  },
  {
   "cell_type": "code",
   "execution_count": null,
   "id": "7f935535",
   "metadata": {
    "papermill": {
     "duration": 0.010012,
     "end_time": "2025-02-13T15:13:34.431882",
     "exception": false,
     "start_time": "2025-02-13T15:13:34.421870",
     "status": "completed"
    },
    "tags": []
   },
   "outputs": [],
   "source": []
  },
  {
   "cell_type": "code",
   "execution_count": null,
   "id": "2af6f906",
   "metadata": {
    "papermill": {
     "duration": 0.00936,
     "end_time": "2025-02-13T15:13:34.450883",
     "exception": false,
     "start_time": "2025-02-13T15:13:34.441523",
     "status": "completed"
    },
    "tags": []
   },
   "outputs": [],
   "source": []
  },
  {
   "cell_type": "code",
   "execution_count": null,
   "id": "c8c65cc6",
   "metadata": {
    "papermill": {
     "duration": 0.009241,
     "end_time": "2025-02-13T15:13:34.470063",
     "exception": false,
     "start_time": "2025-02-13T15:13:34.460822",
     "status": "completed"
    },
    "tags": []
   },
   "outputs": [],
   "source": []
  },
  {
   "cell_type": "code",
   "execution_count": null,
   "id": "49b8b6e0",
   "metadata": {
    "papermill": {
     "duration": 0.009554,
     "end_time": "2025-02-13T15:13:34.489314",
     "exception": false,
     "start_time": "2025-02-13T15:13:34.479760",
     "status": "completed"
    },
    "tags": []
   },
   "outputs": [],
   "source": []
  },
  {
   "cell_type": "code",
   "execution_count": null,
   "id": "eb6e76c6",
   "metadata": {
    "papermill": {
     "duration": 0.009557,
     "end_time": "2025-02-13T15:13:34.508552",
     "exception": false,
     "start_time": "2025-02-13T15:13:34.498995",
     "status": "completed"
    },
    "tags": []
   },
   "outputs": [],
   "source": []
  },
  {
   "cell_type": "code",
   "execution_count": null,
   "id": "0de422bd",
   "metadata": {
    "papermill": {
     "duration": 0.009883,
     "end_time": "2025-02-13T15:13:34.528586",
     "exception": false,
     "start_time": "2025-02-13T15:13:34.518703",
     "status": "completed"
    },
    "tags": []
   },
   "outputs": [],
   "source": []
  },
  {
   "cell_type": "code",
   "execution_count": null,
   "id": "199b2e59",
   "metadata": {
    "papermill": {
     "duration": 0.009417,
     "end_time": "2025-02-13T15:13:34.547955",
     "exception": false,
     "start_time": "2025-02-13T15:13:34.538538",
     "status": "completed"
    },
    "tags": []
   },
   "outputs": [],
   "source": []
  },
  {
   "cell_type": "code",
   "execution_count": null,
   "id": "10822f5f",
   "metadata": {
    "papermill": {
     "duration": 0.013934,
     "end_time": "2025-02-13T15:13:34.571897",
     "exception": false,
     "start_time": "2025-02-13T15:13:34.557963",
     "status": "completed"
    },
    "tags": []
   },
   "outputs": [],
   "source": []
  },
  {
   "cell_type": "code",
   "execution_count": null,
   "id": "4b7fc4d2",
   "metadata": {
    "papermill": {
     "duration": 0.009319,
     "end_time": "2025-02-13T15:13:34.594395",
     "exception": false,
     "start_time": "2025-02-13T15:13:34.585076",
     "status": "completed"
    },
    "tags": []
   },
   "outputs": [],
   "source": []
  },
  {
   "cell_type": "code",
   "execution_count": null,
   "id": "686462b7",
   "metadata": {
    "papermill": {
     "duration": 0.009234,
     "end_time": "2025-02-13T15:13:34.613375",
     "exception": false,
     "start_time": "2025-02-13T15:13:34.604141",
     "status": "completed"
    },
    "tags": []
   },
   "outputs": [],
   "source": []
  },
  {
   "cell_type": "code",
   "execution_count": null,
   "id": "83f01047",
   "metadata": {
    "papermill": {
     "duration": 0.00931,
     "end_time": "2025-02-13T15:13:34.632421",
     "exception": false,
     "start_time": "2025-02-13T15:13:34.623111",
     "status": "completed"
    },
    "tags": []
   },
   "outputs": [],
   "source": []
  },
  {
   "cell_type": "code",
   "execution_count": null,
   "id": "c4d13881",
   "metadata": {
    "papermill": {
     "duration": 0.009401,
     "end_time": "2025-02-13T15:13:34.651544",
     "exception": false,
     "start_time": "2025-02-13T15:13:34.642143",
     "status": "completed"
    },
    "tags": []
   },
   "outputs": [],
   "source": []
  },
  {
   "cell_type": "code",
   "execution_count": null,
   "id": "c2e82e58",
   "metadata": {
    "papermill": {
     "duration": 0.00926,
     "end_time": "2025-02-13T15:13:34.670501",
     "exception": false,
     "start_time": "2025-02-13T15:13:34.661241",
     "status": "completed"
    },
    "tags": []
   },
   "outputs": [],
   "source": []
  },
  {
   "cell_type": "code",
   "execution_count": null,
   "id": "bac2f2ec",
   "metadata": {
    "papermill": {
     "duration": 0.009656,
     "end_time": "2025-02-13T15:13:34.689753",
     "exception": false,
     "start_time": "2025-02-13T15:13:34.680097",
     "status": "completed"
    },
    "tags": []
   },
   "outputs": [],
   "source": []
  },
  {
   "cell_type": "code",
   "execution_count": null,
   "id": "a0eaa5f0",
   "metadata": {
    "papermill": {
     "duration": 0.012239,
     "end_time": "2025-02-13T15:13:34.714887",
     "exception": false,
     "start_time": "2025-02-13T15:13:34.702648",
     "status": "completed"
    },
    "tags": []
   },
   "outputs": [],
   "source": []
  },
  {
   "cell_type": "code",
   "execution_count": null,
   "id": "73898667",
   "metadata": {
    "papermill": {
     "duration": 0.010367,
     "end_time": "2025-02-13T15:13:34.738190",
     "exception": false,
     "start_time": "2025-02-13T15:13:34.727823",
     "status": "completed"
    },
    "tags": []
   },
   "outputs": [],
   "source": []
  },
  {
   "cell_type": "code",
   "execution_count": null,
   "id": "92ce5277",
   "metadata": {
    "papermill": {
     "duration": 0.010326,
     "end_time": "2025-02-13T15:13:34.759667",
     "exception": false,
     "start_time": "2025-02-13T15:13:34.749341",
     "status": "completed"
    },
    "tags": []
   },
   "outputs": [],
   "source": []
  },
  {
   "cell_type": "code",
   "execution_count": null,
   "id": "ecb55dba",
   "metadata": {
    "papermill": {
     "duration": 0.009211,
     "end_time": "2025-02-13T15:13:34.778867",
     "exception": false,
     "start_time": "2025-02-13T15:13:34.769656",
     "status": "completed"
    },
    "tags": []
   },
   "outputs": [],
   "source": []
  },
  {
   "cell_type": "code",
   "execution_count": null,
   "id": "850bd4c6",
   "metadata": {
    "papermill": {
     "duration": 0.009255,
     "end_time": "2025-02-13T15:13:34.797800",
     "exception": false,
     "start_time": "2025-02-13T15:13:34.788545",
     "status": "completed"
    },
    "tags": []
   },
   "outputs": [],
   "source": []
  },
  {
   "cell_type": "code",
   "execution_count": null,
   "id": "7d1fa1c2",
   "metadata": {
    "papermill": {
     "duration": 0.009302,
     "end_time": "2025-02-13T15:13:34.816646",
     "exception": false,
     "start_time": "2025-02-13T15:13:34.807344",
     "status": "completed"
    },
    "tags": []
   },
   "outputs": [],
   "source": []
  },
  {
   "cell_type": "code",
   "execution_count": null,
   "id": "dad8827b",
   "metadata": {
    "papermill": {
     "duration": 0.009215,
     "end_time": "2025-02-13T15:13:34.835379",
     "exception": false,
     "start_time": "2025-02-13T15:13:34.826164",
     "status": "completed"
    },
    "tags": []
   },
   "outputs": [],
   "source": []
  },
  {
   "cell_type": "code",
   "execution_count": null,
   "id": "ccd86b93",
   "metadata": {
    "papermill": {
     "duration": 0.009252,
     "end_time": "2025-02-13T15:13:34.856582",
     "exception": false,
     "start_time": "2025-02-13T15:13:34.847330",
     "status": "completed"
    },
    "tags": []
   },
   "outputs": [],
   "source": []
  },
  {
   "cell_type": "code",
   "execution_count": null,
   "id": "b40896a9",
   "metadata": {
    "papermill": {
     "duration": 0.009242,
     "end_time": "2025-02-13T15:13:34.875387",
     "exception": false,
     "start_time": "2025-02-13T15:13:34.866145",
     "status": "completed"
    },
    "tags": []
   },
   "outputs": [],
   "source": []
  },
  {
   "cell_type": "code",
   "execution_count": null,
   "id": "d8b38a38",
   "metadata": {
    "papermill": {
     "duration": 0.009186,
     "end_time": "2025-02-13T15:13:34.894252",
     "exception": false,
     "start_time": "2025-02-13T15:13:34.885066",
     "status": "completed"
    },
    "tags": []
   },
   "outputs": [],
   "source": []
  },
  {
   "cell_type": "code",
   "execution_count": null,
   "id": "55cd8dc5",
   "metadata": {
    "papermill": {
     "duration": 0.009326,
     "end_time": "2025-02-13T15:13:34.913236",
     "exception": false,
     "start_time": "2025-02-13T15:13:34.903910",
     "status": "completed"
    },
    "tags": []
   },
   "outputs": [],
   "source": []
  },
  {
   "cell_type": "code",
   "execution_count": null,
   "id": "b0c04298",
   "metadata": {
    "papermill": {
     "duration": 0.009342,
     "end_time": "2025-02-13T15:13:34.932251",
     "exception": false,
     "start_time": "2025-02-13T15:13:34.922909",
     "status": "completed"
    },
    "tags": []
   },
   "outputs": [],
   "source": []
  },
  {
   "cell_type": "code",
   "execution_count": null,
   "id": "35b949cf",
   "metadata": {
    "papermill": {
     "duration": 0.010466,
     "end_time": "2025-02-13T15:13:34.953537",
     "exception": false,
     "start_time": "2025-02-13T15:13:34.943071",
     "status": "completed"
    },
    "tags": []
   },
   "outputs": [],
   "source": []
  },
  {
   "cell_type": "code",
   "execution_count": null,
   "id": "f04b1d46",
   "metadata": {
    "papermill": {
     "duration": 0.010106,
     "end_time": "2025-02-13T15:13:34.973655",
     "exception": false,
     "start_time": "2025-02-13T15:13:34.963549",
     "status": "completed"
    },
    "tags": []
   },
   "outputs": [],
   "source": []
  },
  {
   "cell_type": "code",
   "execution_count": null,
   "id": "35b7f8d6",
   "metadata": {
    "papermill": {
     "duration": 0.009262,
     "end_time": "2025-02-13T15:13:34.992820",
     "exception": false,
     "start_time": "2025-02-13T15:13:34.983558",
     "status": "completed"
    },
    "tags": []
   },
   "outputs": [],
   "source": []
  },
  {
   "cell_type": "code",
   "execution_count": null,
   "id": "daa062c3",
   "metadata": {
    "papermill": {
     "duration": 0.009374,
     "end_time": "2025-02-13T15:13:35.011911",
     "exception": false,
     "start_time": "2025-02-13T15:13:35.002537",
     "status": "completed"
    },
    "tags": []
   },
   "outputs": [],
   "source": []
  },
  {
   "cell_type": "code",
   "execution_count": null,
   "id": "cc762076",
   "metadata": {
    "papermill": {
     "duration": 0.009317,
     "end_time": "2025-02-13T15:13:35.030937",
     "exception": false,
     "start_time": "2025-02-13T15:13:35.021620",
     "status": "completed"
    },
    "tags": []
   },
   "outputs": [],
   "source": []
  },
  {
   "cell_type": "code",
   "execution_count": null,
   "id": "054f055d",
   "metadata": {
    "papermill": {
     "duration": 0.009268,
     "end_time": "2025-02-13T15:13:35.049716",
     "exception": false,
     "start_time": "2025-02-13T15:13:35.040448",
     "status": "completed"
    },
    "tags": []
   },
   "outputs": [],
   "source": []
  },
  {
   "cell_type": "code",
   "execution_count": null,
   "id": "f7c2f34f",
   "metadata": {
    "papermill": {
     "duration": 0.009204,
     "end_time": "2025-02-13T15:13:35.068426",
     "exception": false,
     "start_time": "2025-02-13T15:13:35.059222",
     "status": "completed"
    },
    "tags": []
   },
   "outputs": [],
   "source": []
  }
 ],
 "metadata": {
  "kaggle": {
   "accelerator": "none",
   "dataSources": [
    {
     "datasetId": 6645821,
     "sourceId": 10725935,
     "sourceType": "datasetVersion"
    },
    {
     "datasetId": 6654288,
     "sourceId": 10732793,
     "sourceType": "datasetVersion"
    }
   ],
   "dockerImageVersionId": 30886,
   "isGpuEnabled": false,
   "isInternetEnabled": true,
   "language": "python",
   "sourceType": "notebook"
  },
  "kernelspec": {
   "display_name": "Python 3",
   "language": "python",
   "name": "python3"
  },
  "language_info": {
   "codemirror_mode": {
    "name": "ipython",
    "version": 3
   },
   "file_extension": ".py",
   "mimetype": "text/x-python",
   "name": "python",
   "nbconvert_exporter": "python",
   "pygments_lexer": "ipython3",
   "version": "3.10.12"
  },
  "papermill": {
   "default_parameters": {},
   "duration": 3221.223006,
   "end_time": "2025-02-13T15:13:36.104350",
   "environment_variables": {},
   "exception": null,
   "input_path": "__notebook__.ipynb",
   "output_path": "__notebook__.ipynb",
   "parameters": {},
   "start_time": "2025-02-13T14:19:54.881344",
   "version": "2.6.0"
  }
 },
 "nbformat": 4,
 "nbformat_minor": 5
}
