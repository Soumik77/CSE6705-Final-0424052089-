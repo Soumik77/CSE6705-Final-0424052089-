{
  "metadata": {
    "kernelspec": {
      "language": "python",
      "display_name": "Python 3",
      "name": "python3"
    },
    "language_info": {
      "name": "python",
      "version": "3.10.12",
      "mimetype": "text/x-python",
      "codemirror_mode": {
        "name": "ipython",
        "version": 3
      },
      "pygments_lexer": "ipython3",
      "nbconvert_exporter": "python",
      "file_extension": ".py"
    },
    "kaggle": {
      "accelerator": "none",
      "dataSources": [
        {
          "sourceId": 10725935,
          "sourceType": "datasetVersion",
          "datasetId": 6645821
        },
        {
          "sourceId": 10732793,
          "sourceType": "datasetVersion",
          "datasetId": 6654288
        }
      ],
      "dockerImageVersionId": 30886,
      "isInternetEnabled": true,
      "language": "python",
      "sourceType": "notebook",
      "isGpuEnabled": false
    },
    "colab": {
      "provenance": []
    }
  },
  "nbformat_minor": 0,
  "nbformat": 4,
  "cells": [
    {
      "cell_type": "code",
      "source": [
        "# This Python 3 environment comes with many helpful analytics libraries installed\n",
        "# It is defined by the kaggle/python Docker image: https://github.com/kaggle/docker-python\n",
        "# For example, here's several helpful packages to load\n",
        "\n",
        "import numpy as np # linear algebra\n",
        "import pandas as pd # data processing, CSV file I/O (e.g. pd.read_csv)\n",
        "from sklearn.model_selection import train_test_split, StratifiedKFold, cross_val_score\n",
        "from sklearn.ensemble import RandomForestClassifier, VotingClassifier, AdaBoostClassifier\n",
        "from sklearn.svm import SVC\n",
        "from sklearn.linear_model import LogisticRegression\n",
        "\n",
        "from sklearn.metrics import accuracy_score, precision_score, recall_score, f1_score\n",
        "from imblearn.over_sampling import SMOTE  # SMOTE for oversampling minority class\n",
        "from imblearn.ensemble import EasyEnsembleClassifier  # EasyEnsemble for ensemble learning on imbalanced datasets\n",
        "from sklearn.utils.class_weight import compute_class_weight\n",
        "from xgboost import XGBClassifier\n",
        "from sklearn.preprocessing import LabelEncoder\n",
        "\n",
        "# Input data files are available in the read-only \"../input/\" directory\n",
        "# For example, running this (by clicking run or pressing Shift+Enter) will list all files under the input directory\n",
        "\n",
        "import os\n",
        "for dirname, _, filenames in os.walk('/kaggle/input'):\n",
        "    for filename in filenames:\n",
        "        print(os.path.join(dirname, filename))\n",
        "\n",
        "# You can write up to 20GB to the current directory (/kaggle/working/) that gets preserved as output when you create a version using \"Save & Run All\"\n",
        "# You can also write temporary files to /kaggle/temp/, but they won't be saved outside of the current session"
      ],
      "metadata": {
        "_uuid": "8f2839f25d086af736a60e9eeb907d3b93b6e0e5",
        "_cell_guid": "b1076dfc-b9ad-4769-8c92-a6c4dae69d19",
        "trusted": true,
        "execution": {
          "iopub.status.busy": "2025-02-14T19:49:56.051069Z",
          "iopub.execute_input": "2025-02-14T19:49:56.051432Z",
          "iopub.status.idle": "2025-02-14T19:49:59.936930Z",
          "shell.execute_reply.started": "2025-02-14T19:49:56.051405Z",
          "shell.execute_reply": "2025-02-14T19:49:59.935832Z"
        },
        "id": "IWI1xxDGgXnl",
        "outputId": "2727f7f9-21bf-408c-bb0d-c5a587353c50"
      },
      "outputs": [
        {
          "name": "stdout",
          "text": "/kaggle/input/autoencoder-features/top_0.25_percent_features_cv.csv\n/kaggle/input/autoencoder-features/top_0.5_percent_features_cv.csv\n/kaggle/input/autoencoder-features/top_1.0_percent_features_cv.csv\n/kaggle/input/pancancer-8-dataset/genes.csv\n/kaggle/input/pancancer-8-dataset/8_cancers_merged.csv\n/kaggle/input/pancancer-8-dataset/Preprocessed_8_cancer_genes.csv\n",
          "output_type": "stream"
        }
      ],
      "execution_count": null
    },
    {
      "cell_type": "code",
      "source": [
        "df = pd.read_csv('/kaggle/input/pancancer-8-dataset/Preprocessed_8_cancer_genes.csv')\n",
        "df = df.iloc[:, 1:]\n",
        "temp = df.iloc[:, :-1]\n",
        "null_rows = temp[temp.isna().all(axis=1)].index\n",
        "print(null_rows)\n",
        "df.drop(index=[1226, 1741, 1917, 2069, 2494, 3084, 3637], inplace=True)\n",
        "X = df.iloc[:,:-1]\n",
        "Y = df.iloc[:,-1]"
      ],
      "metadata": {
        "trusted": true,
        "execution": {
          "iopub.status.busy": "2025-02-14T19:49:59.938293Z",
          "iopub.execute_input": "2025-02-14T19:49:59.938897Z",
          "iopub.status.idle": "2025-02-14T19:51:38.995413Z",
          "shell.execute_reply.started": "2025-02-14T19:49:59.938865Z",
          "shell.execute_reply": "2025-02-14T19:51:38.994549Z"
        },
        "id": "2BQgwSSjgXny",
        "outputId": "5c4e9dff-80e7-4ced-99fe-ff2983b76c14"
      },
      "outputs": [
        {
          "name": "stdout",
          "text": "Index([1226, 1741, 1917, 2069, 2494, 3084, 3637], dtype='int64')\n",
          "output_type": "stream"
        }
      ],
      "execution_count": null
    },
    {
      "cell_type": "code",
      "source": [
        "genes = ['GNB1',\n",
        "'TAS1R1',\n",
        "'CDK11A',\n",
        "'NOC2L' ,\n",
        "'CEP104' ,\n",
        "'GPR153' ,\n",
        "'DFFB' ,\n",
        "'TPRG1L',\n",
        "'RER1',\n",
        "'LRRC47',\n",
        "'AURKAIP1',\n",
        "'MRPL20' ,\n",
        "'ZBTB48']\n"
      ],
      "metadata": {
        "trusted": true,
        "execution": {
          "iopub.status.busy": "2025-02-14T19:51:39.003927Z",
          "iopub.execute_input": "2025-02-14T19:51:39.004276Z",
          "iopub.status.idle": "2025-02-14T19:51:39.029822Z",
          "shell.execute_reply.started": "2025-02-14T19:51:39.004250Z",
          "shell.execute_reply": "2025-02-14T19:51:39.028685Z"
        },
        "id": "FH4O--f9gXn2"
      },
      "outputs": [],
      "execution_count": null
    },
    {
      "cell_type": "code",
      "source": [
        "X = X[genes]\n",
        "X.shape"
      ],
      "metadata": {
        "trusted": true,
        "execution": {
          "iopub.status.busy": "2025-02-14T19:51:39.030865Z",
          "iopub.execute_input": "2025-02-14T19:51:39.031196Z",
          "iopub.status.idle": "2025-02-14T19:51:39.067220Z",
          "shell.execute_reply.started": "2025-02-14T19:51:39.031159Z",
          "shell.execute_reply": "2025-02-14T19:51:39.066206Z"
        },
        "id": "5cYTySgTgXn3",
        "outputId": "a8c4b8b4-0af9-45e9-cbb4-dc37ab7bcea6"
      },
      "outputs": [
        {
          "execution_count": 5,
          "output_type": "execute_result",
          "data": {
            "text/plain": "(4104, 13)"
          },
          "metadata": {}
        }
      ],
      "execution_count": null
    },
    {
      "cell_type": "code",
      "source": [
        "X_train, X_test, y_train, y_test = train_test_split(X, Y, test_size=0.2, stratify=Y, random_state=42)"
      ],
      "metadata": {
        "trusted": true,
        "execution": {
          "iopub.status.busy": "2025-02-14T19:51:39.068076Z",
          "iopub.execute_input": "2025-02-14T19:51:39.068407Z",
          "iopub.status.idle": "2025-02-14T19:51:39.096549Z",
          "shell.execute_reply.started": "2025-02-14T19:51:39.068381Z",
          "shell.execute_reply": "2025-02-14T19:51:39.095509Z"
        },
        "id": "-ywxygeDgXn5"
      },
      "outputs": [],
      "execution_count": null
    },
    {
      "cell_type": "code",
      "source": [
        "# Apply SMOTE to balance the class distribution\n",
        "smote = SMOTE(random_state=42)\n",
        "X_train_resampled, y_train_resampled = smote.fit_resample(X_train, y_train)\n",
        "X_train_resampled.shape"
      ],
      "metadata": {
        "trusted": true,
        "execution": {
          "iopub.status.busy": "2025-02-14T19:52:31.593791Z",
          "iopub.execute_input": "2025-02-14T19:52:31.594986Z",
          "iopub.status.idle": "2025-02-14T19:52:31.675111Z",
          "shell.execute_reply.started": "2025-02-14T19:52:31.594897Z",
          "shell.execute_reply": "2025-02-14T19:52:31.673953Z"
        },
        "id": "gvOiL2xegXn7",
        "outputId": "7c472de9-1efe-4584-ba8e-d92562650543"
      },
      "outputs": [
        {
          "execution_count": 8,
          "output_type": "execute_result",
          "data": {
            "text/plain": "(7848, 13)"
          },
          "metadata": {}
        }
      ],
      "execution_count": null
    },
    {
      "cell_type": "code",
      "source": [
        "# Compute class weights for the training data\n",
        "class_weights = compute_class_weight('balanced', classes=np.unique(y_train_resampled), y=y_train_resampled)\n",
        "class_weight_dict = dict(zip(np.unique(y_train_resampled), class_weights))\n",
        "\n",
        "# Example: SVM with class weights\n",
        "svm_model = SVC(class_weight=class_weight_dict, random_state=42)"
      ],
      "metadata": {
        "trusted": true,
        "execution": {
          "iopub.status.busy": "2025-02-14T19:52:33.478730Z",
          "iopub.execute_input": "2025-02-14T19:52:33.479104Z",
          "iopub.status.idle": "2025-02-14T19:52:33.498672Z",
          "shell.execute_reply.started": "2025-02-14T19:52:33.479079Z",
          "shell.execute_reply": "2025-02-14T19:52:33.497219Z"
        },
        "id": "81cgAK9qgXn8"
      },
      "outputs": [],
      "execution_count": null
    },
    {
      "cell_type": "code",
      "source": [
        "from sklearn.tree import DecisionTreeClassifier\n",
        "from sklearn.ensemble import ExtraTreesClassifier\n",
        "from sklearn.ensemble import StackingClassifier\n",
        "\n",
        "# Models setup\n",
        "rf_model = RandomForestClassifier(random_state=42, class_weight='balanced')  # Using class_weight='balanced' to address imbalance\n",
        "svm_model = SVC(class_weight='balanced', random_state=42,probability=True)\n",
        "#xgb_model = XGBClassifier(scale_pos_weight=10, random_state=42)  # Adjust scale_pos_weight if needed\n",
        "ada_model = AdaBoostClassifier(random_state=42)\n",
        "lr_model = LogisticRegression(random_state=42)\n",
        "et_model = ExtraTreesClassifier(random_state=42,n_estimators=100)\n",
        "dt_model = DecisionTreeClassifier(random_state=42)\n",
        "\n",
        "\n",
        "\n",
        "# Training models\n",
        "rf_model.fit(X_train_resampled, y_train_resampled)\n",
        "svm_model.fit(X_train_resampled, y_train_resampled)\n",
        "#xgb_model.fit(X_train_resampled, y_train_resampled)\n",
        "ada_model.fit(X_train_resampled, y_train_resampled)\n",
        "lr_model.fit(X_train_resampled, y_train_resampled)\n",
        "dt_model.fit(X_train_resampled, y_train_resampled)\n",
        "et_model.fit(X_train_resampled, y_train_resampled)\n",
        "\n"
      ],
      "metadata": {
        "trusted": true,
        "execution": {
          "iopub.status.busy": "2025-02-14T20:07:13.001846Z",
          "iopub.execute_input": "2025-02-14T20:07:13.002253Z",
          "iopub.status.idle": "2025-02-14T20:07:20.922719Z",
          "shell.execute_reply.started": "2025-02-14T20:07:13.002224Z",
          "shell.execute_reply": "2025-02-14T20:07:20.921815Z"
        },
        "id": "PEDJ7l0WgXn-",
        "outputId": "b7c8df17-1fe4-424d-edaf-b5b5c10e0d57"
      },
      "outputs": [
        {
          "name": "stderr",
          "text": "/usr/local/lib/python3.10/dist-packages/sklearn/linear_model/_logistic.py:458: ConvergenceWarning: lbfgs failed to converge (status=1):\nSTOP: TOTAL NO. of ITERATIONS REACHED LIMIT.\n\nIncrease the number of iterations (max_iter) or scale the data as shown in:\n    https://scikit-learn.org/stable/modules/preprocessing.html\nPlease also refer to the documentation for alternative solver options:\n    https://scikit-learn.org/stable/modules/linear_model.html#logistic-regression\n  n_iter_i = _check_optimize_result(\n",
          "output_type": "stream"
        },
        {
          "execution_count": 17,
          "output_type": "execute_result",
          "data": {
            "text/plain": "ExtraTreesClassifier(random_state=42)",
            "text/html": "<style>#sk-container-id-3 {color: black;background-color: white;}#sk-container-id-3 pre{padding: 0;}#sk-container-id-3 div.sk-toggleable {background-color: white;}#sk-container-id-3 label.sk-toggleable__label {cursor: pointer;display: block;width: 100%;margin-bottom: 0;padding: 0.3em;box-sizing: border-box;text-align: center;}#sk-container-id-3 label.sk-toggleable__label-arrow:before {content: \"▸\";float: left;margin-right: 0.25em;color: #696969;}#sk-container-id-3 label.sk-toggleable__label-arrow:hover:before {color: black;}#sk-container-id-3 div.sk-estimator:hover label.sk-toggleable__label-arrow:before {color: black;}#sk-container-id-3 div.sk-toggleable__content {max-height: 0;max-width: 0;overflow: hidden;text-align: left;background-color: #f0f8ff;}#sk-container-id-3 div.sk-toggleable__content pre {margin: 0.2em;color: black;border-radius: 0.25em;background-color: #f0f8ff;}#sk-container-id-3 input.sk-toggleable__control:checked~div.sk-toggleable__content {max-height: 200px;max-width: 100%;overflow: auto;}#sk-container-id-3 input.sk-toggleable__control:checked~label.sk-toggleable__label-arrow:before {content: \"▾\";}#sk-container-id-3 div.sk-estimator input.sk-toggleable__control:checked~label.sk-toggleable__label {background-color: #d4ebff;}#sk-container-id-3 div.sk-label input.sk-toggleable__control:checked~label.sk-toggleable__label {background-color: #d4ebff;}#sk-container-id-3 input.sk-hidden--visually {border: 0;clip: rect(1px 1px 1px 1px);clip: rect(1px, 1px, 1px, 1px);height: 1px;margin: -1px;overflow: hidden;padding: 0;position: absolute;width: 1px;}#sk-container-id-3 div.sk-estimator {font-family: monospace;background-color: #f0f8ff;border: 1px dotted black;border-radius: 0.25em;box-sizing: border-box;margin-bottom: 0.5em;}#sk-container-id-3 div.sk-estimator:hover {background-color: #d4ebff;}#sk-container-id-3 div.sk-parallel-item::after {content: \"\";width: 100%;border-bottom: 1px solid gray;flex-grow: 1;}#sk-container-id-3 div.sk-label:hover label.sk-toggleable__label {background-color: #d4ebff;}#sk-container-id-3 div.sk-serial::before {content: \"\";position: absolute;border-left: 1px solid gray;box-sizing: border-box;top: 0;bottom: 0;left: 50%;z-index: 0;}#sk-container-id-3 div.sk-serial {display: flex;flex-direction: column;align-items: center;background-color: white;padding-right: 0.2em;padding-left: 0.2em;position: relative;}#sk-container-id-3 div.sk-item {position: relative;z-index: 1;}#sk-container-id-3 div.sk-parallel {display: flex;align-items: stretch;justify-content: center;background-color: white;position: relative;}#sk-container-id-3 div.sk-item::before, #sk-container-id-3 div.sk-parallel-item::before {content: \"\";position: absolute;border-left: 1px solid gray;box-sizing: border-box;top: 0;bottom: 0;left: 50%;z-index: -1;}#sk-container-id-3 div.sk-parallel-item {display: flex;flex-direction: column;z-index: 1;position: relative;background-color: white;}#sk-container-id-3 div.sk-parallel-item:first-child::after {align-self: flex-end;width: 50%;}#sk-container-id-3 div.sk-parallel-item:last-child::after {align-self: flex-start;width: 50%;}#sk-container-id-3 div.sk-parallel-item:only-child::after {width: 0;}#sk-container-id-3 div.sk-dashed-wrapped {border: 1px dashed gray;margin: 0 0.4em 0.5em 0.4em;box-sizing: border-box;padding-bottom: 0.4em;background-color: white;}#sk-container-id-3 div.sk-label label {font-family: monospace;font-weight: bold;display: inline-block;line-height: 1.2em;}#sk-container-id-3 div.sk-label-container {text-align: center;}#sk-container-id-3 div.sk-container {/* jupyter's `normalize.less` sets `[hidden] { display: none; }` but bootstrap.min.css set `[hidden] { display: none !important; }` so we also need the `!important` here to be able to override the default hidden behavior on the sphinx rendered scikit-learn.org. See: https://github.com/scikit-learn/scikit-learn/issues/21755 */display: inline-block !important;position: relative;}#sk-container-id-3 div.sk-text-repr-fallback {display: none;}</style><div id=\"sk-container-id-3\" class=\"sk-top-container\"><div class=\"sk-text-repr-fallback\"><pre>ExtraTreesClassifier(random_state=42)</pre><b>In a Jupyter environment, please rerun this cell to show the HTML representation or trust the notebook. <br />On GitHub, the HTML representation is unable to render, please try loading this page with nbviewer.org.</b></div><div class=\"sk-container\" hidden><div class=\"sk-item\"><div class=\"sk-estimator sk-toggleable\"><input class=\"sk-toggleable__control sk-hidden--visually\" id=\"sk-estimator-id-7\" type=\"checkbox\" checked><label for=\"sk-estimator-id-7\" class=\"sk-toggleable__label sk-toggleable__label-arrow\">ExtraTreesClassifier</label><div class=\"sk-toggleable__content\"><pre>ExtraTreesClassifier(random_state=42)</pre></div></div></div></div></div>"
          },
          "metadata": {}
        }
      ],
      "execution_count": null
    },
    {
      "cell_type": "code",
      "source": [
        "from sklearn.ensemble import VotingClassifier\n",
        "eclfs = VotingClassifier(estimators=[('RF', rf_model), ('ET', et_model), ('lr', lr_model)],voting='soft')"
      ],
      "metadata": {
        "trusted": true,
        "execution": {
          "iopub.status.busy": "2025-02-14T20:07:20.923987Z",
          "iopub.execute_input": "2025-02-14T20:07:20.924307Z",
          "iopub.status.idle": "2025-02-14T20:07:20.929642Z",
          "shell.execute_reply.started": "2025-02-14T20:07:20.924272Z",
          "shell.execute_reply": "2025-02-14T20:07:20.928498Z"
        },
        "id": "qALQByNHgXoA"
      },
      "outputs": [],
      "execution_count": null
    },
    {
      "cell_type": "code",
      "source": [
        "estimators = [('RF', rf_model),('ET',et_model ),('LR',lr_model)]\n",
        "stackclassifier = StackingClassifier(estimators=estimators, final_estimator=svm_model)"
      ],
      "metadata": {
        "trusted": true,
        "execution": {
          "iopub.status.busy": "2025-02-14T20:07:20.932051Z",
          "iopub.execute_input": "2025-02-14T20:07:20.932334Z",
          "iopub.status.idle": "2025-02-14T20:07:20.953870Z",
          "shell.execute_reply.started": "2025-02-14T20:07:20.932312Z",
          "shell.execute_reply": "2025-02-14T20:07:20.952795Z"
        },
        "id": "NRGqYp1ZgXoB"
      },
      "outputs": [],
      "execution_count": null
    },
    {
      "cell_type": "code",
      "source": [
        "eclfs.fit(X_train_resampled, y_train_resampled)\n",
        "stackclassifier.fit(X_train_resampled, y_train_resampled)"
      ],
      "metadata": {
        "trusted": true,
        "execution": {
          "iopub.status.busy": "2025-02-14T20:07:20.955317Z",
          "iopub.execute_input": "2025-02-14T20:07:20.955718Z",
          "iopub.status.idle": "2025-02-14T20:07:42.391116Z",
          "shell.execute_reply.started": "2025-02-14T20:07:20.955677Z",
          "shell.execute_reply": "2025-02-14T20:07:42.390034Z"
        },
        "id": "a3jNeVuSgXoC",
        "outputId": "80140177-a9f2-4747-ffd5-c09497d4ff1a"
      },
      "outputs": [
        {
          "name": "stderr",
          "text": "/usr/local/lib/python3.10/dist-packages/sklearn/linear_model/_logistic.py:458: ConvergenceWarning: lbfgs failed to converge (status=1):\nSTOP: TOTAL NO. of ITERATIONS REACHED LIMIT.\n\nIncrease the number of iterations (max_iter) or scale the data as shown in:\n    https://scikit-learn.org/stable/modules/preprocessing.html\nPlease also refer to the documentation for alternative solver options:\n    https://scikit-learn.org/stable/modules/linear_model.html#logistic-regression\n  n_iter_i = _check_optimize_result(\n/usr/local/lib/python3.10/dist-packages/sklearn/linear_model/_logistic.py:458: ConvergenceWarning: lbfgs failed to converge (status=1):\nSTOP: TOTAL NO. of ITERATIONS REACHED LIMIT.\n\nIncrease the number of iterations (max_iter) or scale the data as shown in:\n    https://scikit-learn.org/stable/modules/preprocessing.html\nPlease also refer to the documentation for alternative solver options:\n    https://scikit-learn.org/stable/modules/linear_model.html#logistic-regression\n  n_iter_i = _check_optimize_result(\n/usr/local/lib/python3.10/dist-packages/sklearn/linear_model/_logistic.py:458: ConvergenceWarning: lbfgs failed to converge (status=1):\nSTOP: TOTAL NO. of ITERATIONS REACHED LIMIT.\n\nIncrease the number of iterations (max_iter) or scale the data as shown in:\n    https://scikit-learn.org/stable/modules/preprocessing.html\nPlease also refer to the documentation for alternative solver options:\n    https://scikit-learn.org/stable/modules/linear_model.html#logistic-regression\n  n_iter_i = _check_optimize_result(\n/usr/local/lib/python3.10/dist-packages/sklearn/linear_model/_logistic.py:458: ConvergenceWarning: lbfgs failed to converge (status=1):\nSTOP: TOTAL NO. of ITERATIONS REACHED LIMIT.\n\nIncrease the number of iterations (max_iter) or scale the data as shown in:\n    https://scikit-learn.org/stable/modules/preprocessing.html\nPlease also refer to the documentation for alternative solver options:\n    https://scikit-learn.org/stable/modules/linear_model.html#logistic-regression\n  n_iter_i = _check_optimize_result(\n/usr/local/lib/python3.10/dist-packages/sklearn/linear_model/_logistic.py:458: ConvergenceWarning: lbfgs failed to converge (status=1):\nSTOP: TOTAL NO. of ITERATIONS REACHED LIMIT.\n\nIncrease the number of iterations (max_iter) or scale the data as shown in:\n    https://scikit-learn.org/stable/modules/preprocessing.html\nPlease also refer to the documentation for alternative solver options:\n    https://scikit-learn.org/stable/modules/linear_model.html#logistic-regression\n  n_iter_i = _check_optimize_result(\n/usr/local/lib/python3.10/dist-packages/sklearn/linear_model/_logistic.py:458: ConvergenceWarning: lbfgs failed to converge (status=1):\nSTOP: TOTAL NO. of ITERATIONS REACHED LIMIT.\n\nIncrease the number of iterations (max_iter) or scale the data as shown in:\n    https://scikit-learn.org/stable/modules/preprocessing.html\nPlease also refer to the documentation for alternative solver options:\n    https://scikit-learn.org/stable/modules/linear_model.html#logistic-regression\n  n_iter_i = _check_optimize_result(\n/usr/local/lib/python3.10/dist-packages/sklearn/linear_model/_logistic.py:458: ConvergenceWarning: lbfgs failed to converge (status=1):\nSTOP: TOTAL NO. of ITERATIONS REACHED LIMIT.\n\nIncrease the number of iterations (max_iter) or scale the data as shown in:\n    https://scikit-learn.org/stable/modules/preprocessing.html\nPlease also refer to the documentation for alternative solver options:\n    https://scikit-learn.org/stable/modules/linear_model.html#logistic-regression\n  n_iter_i = _check_optimize_result(\n",
          "output_type": "stream"
        },
        {
          "execution_count": 20,
          "output_type": "execute_result",
          "data": {
            "text/plain": "StackingClassifier(estimators=[('RF',\n                                RandomForestClassifier(class_weight='balanced',\n                                                       random_state=42)),\n                               ('ET', ExtraTreesClassifier(random_state=42)),\n                               ('LR', LogisticRegression(random_state=42))],\n                   final_estimator=SVC(class_weight='balanced',\n                                       probability=True, random_state=42))",
            "text/html": "<style>#sk-container-id-4 {color: black;background-color: white;}#sk-container-id-4 pre{padding: 0;}#sk-container-id-4 div.sk-toggleable {background-color: white;}#sk-container-id-4 label.sk-toggleable__label {cursor: pointer;display: block;width: 100%;margin-bottom: 0;padding: 0.3em;box-sizing: border-box;text-align: center;}#sk-container-id-4 label.sk-toggleable__label-arrow:before {content: \"▸\";float: left;margin-right: 0.25em;color: #696969;}#sk-container-id-4 label.sk-toggleable__label-arrow:hover:before {color: black;}#sk-container-id-4 div.sk-estimator:hover label.sk-toggleable__label-arrow:before {color: black;}#sk-container-id-4 div.sk-toggleable__content {max-height: 0;max-width: 0;overflow: hidden;text-align: left;background-color: #f0f8ff;}#sk-container-id-4 div.sk-toggleable__content pre {margin: 0.2em;color: black;border-radius: 0.25em;background-color: #f0f8ff;}#sk-container-id-4 input.sk-toggleable__control:checked~div.sk-toggleable__content {max-height: 200px;max-width: 100%;overflow: auto;}#sk-container-id-4 input.sk-toggleable__control:checked~label.sk-toggleable__label-arrow:before {content: \"▾\";}#sk-container-id-4 div.sk-estimator input.sk-toggleable__control:checked~label.sk-toggleable__label {background-color: #d4ebff;}#sk-container-id-4 div.sk-label input.sk-toggleable__control:checked~label.sk-toggleable__label {background-color: #d4ebff;}#sk-container-id-4 input.sk-hidden--visually {border: 0;clip: rect(1px 1px 1px 1px);clip: rect(1px, 1px, 1px, 1px);height: 1px;margin: -1px;overflow: hidden;padding: 0;position: absolute;width: 1px;}#sk-container-id-4 div.sk-estimator {font-family: monospace;background-color: #f0f8ff;border: 1px dotted black;border-radius: 0.25em;box-sizing: border-box;margin-bottom: 0.5em;}#sk-container-id-4 div.sk-estimator:hover {background-color: #d4ebff;}#sk-container-id-4 div.sk-parallel-item::after {content: \"\";width: 100%;border-bottom: 1px solid gray;flex-grow: 1;}#sk-container-id-4 div.sk-label:hover label.sk-toggleable__label {background-color: #d4ebff;}#sk-container-id-4 div.sk-serial::before {content: \"\";position: absolute;border-left: 1px solid gray;box-sizing: border-box;top: 0;bottom: 0;left: 50%;z-index: 0;}#sk-container-id-4 div.sk-serial {display: flex;flex-direction: column;align-items: center;background-color: white;padding-right: 0.2em;padding-left: 0.2em;position: relative;}#sk-container-id-4 div.sk-item {position: relative;z-index: 1;}#sk-container-id-4 div.sk-parallel {display: flex;align-items: stretch;justify-content: center;background-color: white;position: relative;}#sk-container-id-4 div.sk-item::before, #sk-container-id-4 div.sk-parallel-item::before {content: \"\";position: absolute;border-left: 1px solid gray;box-sizing: border-box;top: 0;bottom: 0;left: 50%;z-index: -1;}#sk-container-id-4 div.sk-parallel-item {display: flex;flex-direction: column;z-index: 1;position: relative;background-color: white;}#sk-container-id-4 div.sk-parallel-item:first-child::after {align-self: flex-end;width: 50%;}#sk-container-id-4 div.sk-parallel-item:last-child::after {align-self: flex-start;width: 50%;}#sk-container-id-4 div.sk-parallel-item:only-child::after {width: 0;}#sk-container-id-4 div.sk-dashed-wrapped {border: 1px dashed gray;margin: 0 0.4em 0.5em 0.4em;box-sizing: border-box;padding-bottom: 0.4em;background-color: white;}#sk-container-id-4 div.sk-label label {font-family: monospace;font-weight: bold;display: inline-block;line-height: 1.2em;}#sk-container-id-4 div.sk-label-container {text-align: center;}#sk-container-id-4 div.sk-container {/* jupyter's `normalize.less` sets `[hidden] { display: none; }` but bootstrap.min.css set `[hidden] { display: none !important; }` so we also need the `!important` here to be able to override the default hidden behavior on the sphinx rendered scikit-learn.org. See: https://github.com/scikit-learn/scikit-learn/issues/21755 */display: inline-block !important;position: relative;}#sk-container-id-4 div.sk-text-repr-fallback {display: none;}</style><div id=\"sk-container-id-4\" class=\"sk-top-container\"><div class=\"sk-text-repr-fallback\"><pre>StackingClassifier(estimators=[(&#x27;RF&#x27;,\n                                RandomForestClassifier(class_weight=&#x27;balanced&#x27;,\n                                                       random_state=42)),\n                               (&#x27;ET&#x27;, ExtraTreesClassifier(random_state=42)),\n                               (&#x27;LR&#x27;, LogisticRegression(random_state=42))],\n                   final_estimator=SVC(class_weight=&#x27;balanced&#x27;,\n                                       probability=True, random_state=42))</pre><b>In a Jupyter environment, please rerun this cell to show the HTML representation or trust the notebook. <br />On GitHub, the HTML representation is unable to render, please try loading this page with nbviewer.org.</b></div><div class=\"sk-container\" hidden><div class=\"sk-item sk-dashed-wrapped\"><div class=\"sk-label-container\"><div class=\"sk-label sk-toggleable\"><input class=\"sk-toggleable__control sk-hidden--visually\" id=\"sk-estimator-id-8\" type=\"checkbox\" ><label for=\"sk-estimator-id-8\" class=\"sk-toggleable__label sk-toggleable__label-arrow\">StackingClassifier</label><div class=\"sk-toggleable__content\"><pre>StackingClassifier(estimators=[(&#x27;RF&#x27;,\n                                RandomForestClassifier(class_weight=&#x27;balanced&#x27;,\n                                                       random_state=42)),\n                               (&#x27;ET&#x27;, ExtraTreesClassifier(random_state=42)),\n                               (&#x27;LR&#x27;, LogisticRegression(random_state=42))],\n                   final_estimator=SVC(class_weight=&#x27;balanced&#x27;,\n                                       probability=True, random_state=42))</pre></div></div></div><div class=\"sk-serial\"><div class=\"sk-item\"><div class=\"sk-parallel\"><div class=\"sk-parallel-item\"><div class=\"sk-item\"><div class=\"sk-label-container\"><div class=\"sk-label sk-toggleable\"><label>RF</label></div></div><div class=\"sk-serial\"><div class=\"sk-item\"><div class=\"sk-estimator sk-toggleable\"><input class=\"sk-toggleable__control sk-hidden--visually\" id=\"sk-estimator-id-9\" type=\"checkbox\" ><label for=\"sk-estimator-id-9\" class=\"sk-toggleable__label sk-toggleable__label-arrow\">RandomForestClassifier</label><div class=\"sk-toggleable__content\"><pre>RandomForestClassifier(class_weight=&#x27;balanced&#x27;, random_state=42)</pre></div></div></div></div></div></div><div class=\"sk-parallel-item\"><div class=\"sk-item\"><div class=\"sk-label-container\"><div class=\"sk-label sk-toggleable\"><label>ET</label></div></div><div class=\"sk-serial\"><div class=\"sk-item\"><div class=\"sk-estimator sk-toggleable\"><input class=\"sk-toggleable__control sk-hidden--visually\" id=\"sk-estimator-id-10\" type=\"checkbox\" ><label for=\"sk-estimator-id-10\" class=\"sk-toggleable__label sk-toggleable__label-arrow\">ExtraTreesClassifier</label><div class=\"sk-toggleable__content\"><pre>ExtraTreesClassifier(random_state=42)</pre></div></div></div></div></div></div><div class=\"sk-parallel-item\"><div class=\"sk-item\"><div class=\"sk-label-container\"><div class=\"sk-label sk-toggleable\"><label>LR</label></div></div><div class=\"sk-serial\"><div class=\"sk-item\"><div class=\"sk-estimator sk-toggleable\"><input class=\"sk-toggleable__control sk-hidden--visually\" id=\"sk-estimator-id-11\" type=\"checkbox\" ><label for=\"sk-estimator-id-11\" class=\"sk-toggleable__label sk-toggleable__label-arrow\">LogisticRegression</label><div class=\"sk-toggleable__content\"><pre>LogisticRegression(random_state=42)</pre></div></div></div></div></div></div></div></div><div class=\"sk-item\"><div class=\"sk-parallel\"><div class=\"sk-parallel-item\"><div class=\"sk-item\"><div class=\"sk-label-container\"><div class=\"sk-label sk-toggleable\"><label>final_estimator</label></div></div><div class=\"sk-serial\"><div class=\"sk-item\"><div class=\"sk-estimator sk-toggleable\"><input class=\"sk-toggleable__control sk-hidden--visually\" id=\"sk-estimator-id-12\" type=\"checkbox\" ><label for=\"sk-estimator-id-12\" class=\"sk-toggleable__label sk-toggleable__label-arrow\">SVC</label><div class=\"sk-toggleable__content\"><pre>SVC(class_weight=&#x27;balanced&#x27;, probability=True, random_state=42)</pre></div></div></div></div></div></div></div></div></div></div></div></div>"
          },
          "metadata": {}
        }
      ],
      "execution_count": null
    },
    {
      "cell_type": "code",
      "source": [
        "# Make predictions\n",
        "rf_preds = rf_model.predict(X_test)\n",
        "svm_preds = svm_model.predict(X_test)\n",
        "#xgb_preds = xgb_model.predict(X_test)\n",
        "#ada_preds = ada_model.predict(X_test)\n",
        "lr_preds = lr_model.predict(X_test)\n",
        "et_preds = et_model.predict(X_test)\n",
        "st_preds = stackclassifier.predict(X_test)\n",
        "soft_voting = eclfs.predict(X_test)\n",
        "\n",
        "# Evaluate all models\n",
        "def evaluate_model(y_true, y_pred, model_name):\n",
        "    print(f\"{model_name} Evaluation:\")\n",
        "    print(\"Accuracy:\", accuracy_score(y_true, y_pred))\n",
        "    print(\"Precision (Macro Average):\", precision_score(y_true, y_pred, average='macro'))\n",
        "    print(\"Recall (Macro Average):\", recall_score(y_true, y_pred, average='macro'))\n",
        "    print(\"F1 Score (Macro Average):\", f1_score(y_true, y_pred, average='macro'))\n",
        "    print(\"\\n\")\n",
        "\n",
        "# Evaluate each model\n",
        "evaluate_model(y_test, rf_preds, 'Random Forest')\n",
        "evaluate_model(y_test, svm_preds, 'SVM')\n",
        "#evaluate_model(y_test, xgb_preds, 'XGBoost')\n",
        "#evaluate_model(y_test, ada_preds, 'AdaBoost')\n",
        "evaluate_model(y_test, lr_preds, 'Logistic Regression')\n",
        "evaluate_model(y_test, et_preds, 'Extra tree classifier')\n",
        "evaluate_model(y_test, st_preds, 'Stacking Classifier')\n",
        "evaluate_model(y_test, soft_voting, \"Soft Voting\")"
      ],
      "metadata": {
        "trusted": true,
        "execution": {
          "iopub.status.busy": "2025-02-14T20:07:42.392263Z",
          "iopub.execute_input": "2025-02-14T20:07:42.392561Z",
          "iopub.status.idle": "2025-02-14T20:07:42.901118Z",
          "shell.execute_reply.started": "2025-02-14T20:07:42.392529Z",
          "shell.execute_reply": "2025-02-14T20:07:42.900117Z"
        },
        "id": "mBS21GbggXoD",
        "outputId": "eaf67d5e-7d72-4d9e-99c6-591babf61814"
      },
      "outputs": [
        {
          "name": "stdout",
          "text": "Random Forest Evaluation:\nAccuracy: 0.8574908647990256\nPrecision (Macro Average): 0.8814526011797283\nRecall (Macro Average): 0.8896575754599036\nF1 Score (Macro Average): 0.8852307589328021\n\n\nSVM Evaluation:\nAccuracy: 0.8696711327649208\nPrecision (Macro Average): 0.8988946015434143\nRecall (Macro Average): 0.9018656550994242\nF1 Score (Macro Average): 0.9000970883686913\n\n\nLogistic Regression Evaluation:\nAccuracy: 0.8343483556638246\nPrecision (Macro Average): 0.8669811811704116\nRecall (Macro Average): 0.8830388039706231\nF1 Score (Macro Average): 0.8722349269655619\n\n\nExtra tree classifier Evaluation:\nAccuracy: 0.8684531059683313\nPrecision (Macro Average): 0.8964868017889263\nRecall (Macro Average): 0.8977285951909513\nF1 Score (Macro Average): 0.8968681397118444\n\n\nStacking Classifier Evaluation:\nAccuracy: 0.8684531059683313\nPrecision (Macro Average): 0.9071809772296016\nRecall (Macro Average): 0.8867650572491484\nF1 Score (Macro Average): 0.8949824433832709\n\n\nSoft Voting Evaluation:\nAccuracy: 0.8611449451887941\nPrecision (Macro Average): 0.8886442270687303\nRecall (Macro Average): 0.8977809500801059\nF1 Score (Macro Average): 0.8924139199663343\n\n\n",
          "output_type": "stream"
        }
      ],
      "execution_count": null
    },
    {
      "cell_type": "code",
      "source": [
        "from sklearn.metrics import matthews_corrcoef\n",
        "\n",
        "# Evaluate all models with MCC\n",
        "def evaluate_model(y_true, y_pred, model_name):\n",
        "    print(f\"{model_name} Evaluation:\")\n",
        "    #print(\"Accuracy:\", accuracy_score(y_true, y_pred))\n",
        "    print(\"Precision (Macro Average):\", precision_score(y_true, y_pred, average='macro'))\n",
        "    print(\"Recall (Macro Average):\", recall_score(y_true, y_pred, average='macro'))\n",
        "    print(\"F1 Score (Macro Average):\", f1_score(y_true, y_pred, average='macro'))\n",
        "    print(\"Matthews Correlation Coefficient (MCC):\", matthews_corrcoef(y_true, y_pred))\n",
        "    print(\"\\n\")\n",
        "\n",
        "# Evaluate each model\n",
        "evaluate_model(y_test, rf_preds, 'Random Forest')\n",
        "evaluate_model(y_test, svm_preds, 'SVM')\n",
        "#evaluate_model(y_test, xgb_preds, 'XGBoost')\n",
        "#evaluate_model(y_test, ada_preds, 'AdaBoost')\n",
        "evaluate_model(y_test, lr_preds, 'Logistic Regression')\n",
        "evaluate_model(y_test, et_preds, 'Extra tree classifier')\n",
        "evaluate_model(y_test, st_preds, 'Stacking Classifier')\n",
        "evaluate_model(y_test, soft_voting, \"Soft Voting\")\n"
      ],
      "metadata": {
        "trusted": true,
        "execution": {
          "iopub.status.busy": "2025-02-14T20:13:58.661057Z",
          "iopub.execute_input": "2025-02-14T20:13:58.661437Z",
          "iopub.status.idle": "2025-02-14T20:13:58.840212Z",
          "shell.execute_reply.started": "2025-02-14T20:13:58.661409Z",
          "shell.execute_reply": "2025-02-14T20:13:58.839144Z"
        },
        "id": "-85gngMngXoE",
        "outputId": "82577ba0-ae75-4116-d9bf-5c306ec91d2f"
      },
      "outputs": [
        {
          "name": "stdout",
          "text": "Random Forest Evaluation:\nPrecision (Macro Average): 0.8814526011797283\nRecall (Macro Average): 0.8896575754599036\nF1 Score (Macro Average): 0.8852307589328021\nMatthews Correlation Coefficient (MCC): 0.8284019070729548\n\n\nSVM Evaluation:\nPrecision (Macro Average): 0.8988946015434143\nRecall (Macro Average): 0.9018656550994242\nF1 Score (Macro Average): 0.9000970883686913\nMatthews Correlation Coefficient (MCC): 0.843466817331964\n\n\nLogistic Regression Evaluation:\nPrecision (Macro Average): 0.8669811811704116\nRecall (Macro Average): 0.8830388039706231\nF1 Score (Macro Average): 0.8722349269655619\nMatthews Correlation Coefficient (MCC): 0.8048180530669493\n\n\nExtra tree classifier Evaluation:\nPrecision (Macro Average): 0.8964868017889263\nRecall (Macro Average): 0.8977285951909513\nF1 Score (Macro Average): 0.8968681397118444\nMatthews Correlation Coefficient (MCC): 0.8412924603533897\n\n\nStacking Classifier Evaluation:\nPrecision (Macro Average): 0.9071809772296016\nRecall (Macro Average): 0.8867650572491484\nF1 Score (Macro Average): 0.8949824433832709\nMatthews Correlation Coefficient (MCC): 0.8414928325810186\n\n\nSoft Voting Evaluation:\nPrecision (Macro Average): 0.8886442270687303\nRecall (Macro Average): 0.8977809500801059\nF1 Score (Macro Average): 0.8924139199663343\nMatthews Correlation Coefficient (MCC): 0.8340645194888254\n\n\n",
          "output_type": "stream"
        }
      ],
      "execution_count": null
    },
    {
      "cell_type": "code",
      "source": [],
      "metadata": {
        "trusted": true,
        "id": "KtqcbEUdgXoF"
      },
      "outputs": [],
      "execution_count": null
    },
    {
      "cell_type": "code",
      "source": [],
      "metadata": {
        "trusted": true,
        "id": "DoBPM7IsgXoG"
      },
      "outputs": [],
      "execution_count": null
    },
    {
      "cell_type": "code",
      "source": [],
      "metadata": {
        "trusted": true,
        "id": "tL-7jrOsgXoG"
      },
      "outputs": [],
      "execution_count": null
    },
    {
      "cell_type": "code",
      "source": [],
      "metadata": {
        "trusted": true,
        "id": "I22RgPQagXoH"
      },
      "outputs": [],
      "execution_count": null
    },
    {
      "cell_type": "code",
      "source": [],
      "metadata": {
        "trusted": true,
        "id": "pygBMlnTgXoH"
      },
      "outputs": [],
      "execution_count": null
    },
    {
      "cell_type": "code",
      "source": [],
      "metadata": {
        "trusted": true,
        "id": "jffbPHNGgXoI"
      },
      "outputs": [],
      "execution_count": null
    },
    {
      "cell_type": "code",
      "source": [],
      "metadata": {
        "trusted": true,
        "id": "V2NkwLVbgXoI"
      },
      "outputs": [],
      "execution_count": null
    },
    {
      "cell_type": "code",
      "source": [],
      "metadata": {
        "trusted": true,
        "id": "m8F6mlOxgXoI"
      },
      "outputs": [],
      "execution_count": null
    },
    {
      "cell_type": "code",
      "source": [],
      "metadata": {
        "trusted": true,
        "id": "477_71F4gXoJ"
      },
      "outputs": [],
      "execution_count": null
    },
    {
      "cell_type": "code",
      "source": [],
      "metadata": {
        "trusted": true,
        "id": "G86PkUf7gXoJ"
      },
      "outputs": [],
      "execution_count": null
    },
    {
      "cell_type": "code",
      "source": [],
      "metadata": {
        "trusted": true,
        "id": "eSmTsYoQgXoK"
      },
      "outputs": [],
      "execution_count": null
    },
    {
      "cell_type": "code",
      "source": [],
      "metadata": {
        "trusted": true,
        "id": "jXHt-UDmgXoL"
      },
      "outputs": [],
      "execution_count": null
    },
    {
      "cell_type": "code",
      "source": [],
      "metadata": {
        "trusted": true,
        "id": "Lu1FvRjdgXoL"
      },
      "outputs": [],
      "execution_count": null
    },
    {
      "cell_type": "code",
      "source": [],
      "metadata": {
        "trusted": true,
        "id": "lycFbIHKgXoL"
      },
      "outputs": [],
      "execution_count": null
    }
  ]
}